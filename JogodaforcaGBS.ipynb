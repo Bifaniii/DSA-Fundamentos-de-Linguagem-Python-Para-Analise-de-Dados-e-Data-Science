{
 "cells": [
  {
   "cell_type": "code",
   "execution_count": null,
   "id": "acbcd914-cc58-4f02-88a5-a19685c86594",
   "metadata": {
    "scrolled": true
   },
   "outputs": [
    {
     "name": "stdout",
     "output_type": "stream",
     "text": [
      "\n",
      "Bem-vindo(a) ao jogo da forca do Bifa milgrau!\n",
      "Advinhe a palavra abaixo:\n",
      "\n",
      "_ _ _ _ _ _\n",
      "\n",
      "Chances restantes: 6\n",
      "Letras erradas: \n"
     ]
    }
   ],
   "source": [
    "import random\n",
    "from os import system, name\n",
    "\n",
    "#   Função para limpar a tela a cada execução\n",
    "def limpa_tela():\n",
    "    #Windows\n",
    "    if name == 'nt':\n",
    "        _= system('cls')\n",
    "    \n",
    "    #Mac ou Linux\n",
    "    else:\n",
    "        _= system('clear')\n",
    "\n",
    "#   Função\n",
    "def game():\n",
    "    limpa_tela()\n",
    "    print(\"\\nBem-vindo(a) ao jogo da forca do Bifa milgrau!\")\n",
    "    print(\"Advinhe a palavra abaixo:\\n\")\n",
    "\n",
    "    #Lista de palavras para o jogo\n",
    "    palavras = ['banana', 'laranja', 'uva', 'abacaxi', 'morango']\n",
    "\n",
    "    # Escolhe randomicamente uma palavra na lista\n",
    "    palavra = random.choice(palavras)\n",
    "\n",
    "    # List comprehension para qntd de letras na palavras aleatória\n",
    "    letras_descobertas = ['_' for letra in palavra]\n",
    "\n",
    "    # Número de chances predefinido\n",
    "    chances = 6\n",
    "\n",
    "    # Lista para as letras erradas\n",
    "    letras_erradas = []\n",
    "\n",
    "    # Loop enquanto o número de chances for maior que 0\n",
    "    while chances > 0:\n",
    "        print(\" \".join(letras_descobertas))\n",
    "        print(\"\\nChances restantes:\", chances)\n",
    "        print(\"Letras erradas:\", \" \".join(letras_erradas))\n",
    "\n",
    "    # Tentativa\n",
    "        tentativa = input(\"\\nDigite uma letra: \").lower()\n",
    "    \n",
    "    # Condicional\n",
    "        if tentativa in palavra:\n",
    "            index = 0\n",
    "        \n",
    "            for letra in palavra:\n",
    "                if tentativa == letra:\n",
    "                    letras_descobertas[index] = letra\n",
    "                index += 1\n",
    "        else:\n",
    "            chances -= 1\n",
    "            letras_erradas.append(tentativa)\n",
    "\n",
    "        # Condicional 2\n",
    "        if \"_\" not in letras_descobertas:\n",
    "            print(\"\\nVocê venceu, a palavras era:\", palavra)\n",
    "            break\n",
    "\n",
    "    # Condicional 3\n",
    "    if \"_\" in letras_descobertas:\n",
    "        print(\"\\nVocê perdeu, a palavra era:\", palavra)\n",
    "\n",
    "# Bloco main\n",
    "if __name__ == \"__main__\":\n",
    "    game()\n",
    "    print(\"\\n~Igão Underground: 'Tamo evoluindo, tamo evoluindo né?' kkkkkkkkkkj\\n\")"
   ]
  }
 ],
 "metadata": {
  "kernelspec": {
   "display_name": "Python 3 (ipykernel)",
   "language": "python",
   "name": "python3"
  },
  "language_info": {
   "codemirror_mode": {
    "name": "ipython",
    "version": 3
   },
   "file_extension": ".py",
   "mimetype": "text/x-python",
   "name": "python",
   "nbconvert_exporter": "python",
   "pygments_lexer": "ipython3",
   "version": "3.12.7"
  }
 },
 "nbformat": 4,
 "nbformat_minor": 5
}
